{
 "cells": [
  {
   "cell_type": "markdown",
   "id": "97ff620c",
   "metadata": {},
   "source": [
    "# DataScience  Tools and Ecosystem"
   ]
  },
  {
   "cell_type": "markdown",
   "id": "0d820709",
   "metadata": {},
   "source": [
    "**Introduction**\n",
    "Welcome to my data science notebook! In this notebook, we will explore various data science topics and perform some exercises."
   ]
  },
  {
   "cell_type": "markdown",
   "id": "f27c7ff3",
   "metadata": {},
   "source": [
    "**#DataScience Languages**\n",
    "\n",
    "Some of the popular languages thar Data Scientists use are:\n",
    "- Python\n",
    "- R\n",
    "- SQL\n"
   ]
  },
  {
   "cell_type": "markdown",
   "id": "92cde299",
   "metadata": {},
   "source": [
    "**#DataScience Libraries**\n",
    "\n",
    "Some of the common Data Science libraries are:\n",
    "1. Numpy\n",
    "2. Pandas\n",
    "3. Matplotib"
   ]
  },
  {
   "cell_type": "markdown",
   "id": "b98fbcbb",
   "metadata": {},
   "source": [
    "**## Data Science Tools**\n",
    "\n",
    "| Data Science Tools |\n",
    "|--------------------|\n",
    "| Jupyter Notebook   |\n",
    "| RStudio            |\n",
    "| Spyder             |\n"
   ]
  },
  {
   "cell_type": "markdown",
   "id": "7ae96609",
   "metadata": {},
   "source": [
    "**## Arithmetic Expression Examples**\n",
    "\n",
    "### Below are a few examples of evaluating arithmetic expressions in Python."
   ]
  },
  {
   "cell_type": "code",
   "execution_count": 2,
   "id": "c314ef4f",
   "metadata": {},
   "outputs": [
    {
     "name": "stdout",
     "output_type": "stream",
     "text": [
      "Result of both multiplication and addition: 17\n"
     ]
    }
   ],
   "source": [
    "# Multiplication and Additon\n",
    "mutiadd= ( 3 * 4 ) + 5\n",
    "print(\"Result of both multiplication and addition:\", mutiadd)\n"
   ]
  },
  {
   "cell_type": "code",
   "execution_count": 3,
   "id": "18a246d6",
   "metadata": {},
   "outputs": [
    {
     "name": "stdout",
     "output_type": "stream",
     "text": [
      "Hours: 3.3333333333333335\n"
     ]
    }
   ],
   "source": [
    "# Convert Minutes to Hours\n",
    "minutes = 200\n",
    "hours = minutes / 60\n",
    "print(\"Hours:\", hours)\n"
   ]
  },
  {
   "cell_type": "markdown",
   "id": "7f5c89d0",
   "metadata": {},
   "source": [
    "**##Objectives**\n",
    "- Practice using Jupyter Notebook\n",
    "- Explore data science languages and libraries\n",
    "- Perform arithmetic operations in Python"
   ]
  },
  {
   "cell_type": "markdown",
   "id": "0daf0721",
   "metadata": {},
   "source": [
    "## Author\n",
    "- Bilal Haider\n"
   ]
  },
  {
   "cell_type": "code",
   "execution_count": null,
   "id": "6c99624d",
   "metadata": {},
   "outputs": [],
   "source": []
  }
 ],
 "metadata": {
  "kernelspec": {
   "display_name": "Python 3 (ipykernel)",
   "language": "python",
   "name": "python3"
  },
  "language_info": {
   "codemirror_mode": {
    "name": "ipython",
    "version": 3
   },
   "file_extension": ".py",
   "mimetype": "text/x-python",
   "name": "python",
   "nbconvert_exporter": "python",
   "pygments_lexer": "ipython3",
   "version": "3.11.5"
  }
 },
 "nbformat": 4,
 "nbformat_minor": 5
}
